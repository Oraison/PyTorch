{
 "cells": [
  {
   "cell_type": "markdown",
   "metadata": {},
   "source": [
    "# Lab 4-2: Load Data"
   ]
  },
  {
   "cell_type": "markdown",
   "metadata": {},
   "source": [
    "Author: Seungjae Lee (이승재)"
   ]
  },
  {
   "cell_type": "markdown",
   "metadata": {},
   "source": [
    "<div class=\"alert alert-warning\">\n",
    "    We use elemental PyTorch to implement linear regression here. However, in most actual applications, abstractions such as <code>nn.Module</code> or <code>nn.Linear</code> are used.\n",
    "</div>"
   ]
  },
  {
   "cell_type": "markdown",
   "metadata": {},
   "source": [
    "## Slicing 1D Array"
   ]
  },
  {
   "cell_type": "code",
   "execution_count": 8,
   "metadata": {},
   "outputs": [],
   "source": [
    "nums = [0, 1, 2, 3, 4]"
   ]
  },
  {
   "cell_type": "code",
   "execution_count": 9,
   "metadata": {},
   "outputs": [
    {
     "name": "stdout",
     "output_type": "stream",
     "text": [
      "[0, 1, 2, 3, 4]\n"
     ]
    }
   ],
   "source": [
    "print(nums)"
   ]
  },
  {
   "cell_type": "markdown",
   "metadata": {},
   "source": [
    "index 2에서 4 전까지 가져와라. (앞 포함, 뒤 비포함)"
   ]
  },
  {
   "cell_type": "code",
   "execution_count": 10,
   "metadata": {},
   "outputs": [
    {
     "name": "stdout",
     "output_type": "stream",
     "text": [
      "[2, 3]\n"
     ]
    }
   ],
   "source": [
    "print(nums[2:4])"
   ]
  },
  {
   "cell_type": "markdown",
   "metadata": {},
   "source": [
    "index 2부터 다 가져와라."
   ]
  },
  {
   "cell_type": "code",
   "execution_count": 11,
   "metadata": {},
   "outputs": [
    {
     "name": "stdout",
     "output_type": "stream",
     "text": [
      "[2, 3, 4]\n"
     ]
    }
   ],
   "source": [
    "print(nums[2:])"
   ]
  },
  {
   "cell_type": "markdown",
   "metadata": {},
   "source": [
    "index 2 전까지 가져와라. (역시 뒤는 비포함)"
   ]
  },
  {
   "cell_type": "code",
   "execution_count": 12,
   "metadata": {},
   "outputs": [
    {
     "name": "stdout",
     "output_type": "stream",
     "text": [
      "[0, 1]\n"
     ]
    }
   ],
   "source": [
    "print(nums[:2])"
   ]
  },
  {
   "cell_type": "markdown",
   "metadata": {},
   "source": [
    "전부 가져와라"
   ]
  },
  {
   "cell_type": "code",
   "execution_count": 13,
   "metadata": {},
   "outputs": [
    {
     "name": "stdout",
     "output_type": "stream",
     "text": [
      "[0, 1, 2, 3, 4]\n"
     ]
    }
   ],
   "source": [
    "print(nums[:])"
   ]
  },
  {
   "cell_type": "markdown",
   "metadata": {},
   "source": [
    "마지막 index 전까지 가져와라. (뒤는 비포함!)"
   ]
  },
  {
   "cell_type": "code",
   "execution_count": 14,
   "metadata": {},
   "outputs": [
    {
     "name": "stdout",
     "output_type": "stream",
     "text": [
      "[0, 1, 2, 3]\n"
     ]
    }
   ],
   "source": [
    "print(nums[:-1])"
   ]
  },
  {
   "cell_type": "markdown",
   "metadata": {},
   "source": [
    "assign 도 가능!"
   ]
  },
  {
   "cell_type": "code",
   "execution_count": 15,
   "metadata": {},
   "outputs": [],
   "source": [
    "nums[2:4] = [8, 9]"
   ]
  },
  {
   "cell_type": "code",
   "execution_count": 16,
   "metadata": {},
   "outputs": [
    {
     "name": "stdout",
     "output_type": "stream",
     "text": [
      "[0, 1, 8, 9, 4]\n"
     ]
    }
   ],
   "source": [
    "print(nums)"
   ]
  },
  {
   "cell_type": "markdown",
   "metadata": {},
   "source": [
    "## Slicing 2D Array"
   ]
  },
  {
   "cell_type": "code",
   "execution_count": 17,
   "metadata": {},
   "outputs": [],
   "source": [
    "import numpy as np"
   ]
  },
  {
   "cell_type": "code",
   "execution_count": 18,
   "metadata": {},
   "outputs": [],
   "source": [
    "b = np.array([[1, 2, 3, 4], [5, 6, 7, 8], [9, 10, 11, 12]])"
   ]
  },
  {
   "cell_type": "code",
   "execution_count": 19,
   "metadata": {},
   "outputs": [
    {
     "name": "stdout",
     "output_type": "stream",
     "text": [
      "[[ 1  2  3  4]\n",
      " [ 5  6  7  8]\n",
      " [ 9 10 11 12]]\n"
     ]
    }
   ],
   "source": [
    "print(b)"
   ]
  },
  {
   "cell_type": "code",
   "execution_count": 20,
   "metadata": {},
   "outputs": [
    {
     "data": {
      "text/plain": [
       "array([ 2,  6, 10])"
      ]
     },
     "execution_count": 20,
     "metadata": {},
     "output_type": "execute_result"
    }
   ],
   "source": [
    "b[:, 1]"
   ]
  },
  {
   "cell_type": "code",
   "execution_count": 21,
   "metadata": {},
   "outputs": [
    {
     "data": {
      "text/plain": [
       "array([ 9, 10, 11, 12])"
      ]
     },
     "execution_count": 21,
     "metadata": {},
     "output_type": "execute_result"
    }
   ],
   "source": [
    "b[-1]"
   ]
  },
  {
   "cell_type": "code",
   "execution_count": 22,
   "metadata": {},
   "outputs": [
    {
     "data": {
      "text/plain": [
       "array([ 9, 10, 11, 12])"
      ]
     },
     "execution_count": 22,
     "metadata": {},
     "output_type": "execute_result"
    }
   ],
   "source": [
    "b[-1, :]"
   ]
  },
  {
   "cell_type": "code",
   "execution_count": 23,
   "metadata": {},
   "outputs": [
    {
     "data": {
      "text/plain": [
       "array([ 9, 10, 11, 12])"
      ]
     },
     "execution_count": 23,
     "metadata": {},
     "output_type": "execute_result"
    }
   ],
   "source": [
    "b[-1, ...]"
   ]
  },
  {
   "cell_type": "code",
   "execution_count": 24,
   "metadata": {},
   "outputs": [
    {
     "data": {
      "text/plain": [
       "array([[1, 2, 3, 4],\n",
       "       [5, 6, 7, 8]])"
      ]
     },
     "execution_count": 24,
     "metadata": {},
     "output_type": "execute_result"
    }
   ],
   "source": [
    "b[0:2, :]"
   ]
  },
  {
   "cell_type": "markdown",
   "metadata": {},
   "source": [
    "## Loading Data from `.csv` file"
   ]
  },
  {
   "cell_type": "code",
   "execution_count": 25,
   "metadata": {},
   "outputs": [],
   "source": [
    "import numpy as np"
   ]
  },
  {
   "cell_type": "code",
   "execution_count": 26,
   "metadata": {},
   "outputs": [],
   "source": [
    "xy = np.loadtxt('data-01-test-score.csv', delimiter=',', dtype=np.float32)"
   ]
  },
  {
   "cell_type": "code",
   "execution_count": 27,
   "metadata": {},
   "outputs": [],
   "source": [
    "x_data = xy[:, 0:-1]\n",
    "y_data = xy[:, [-1]]"
   ]
  },
  {
   "cell_type": "code",
   "execution_count": 28,
   "metadata": {},
   "outputs": [
    {
     "name": "stdout",
     "output_type": "stream",
     "text": [
      "(25, 3)\n",
      "25\n",
      "[[ 73.  80.  75.]\n",
      " [ 93.  88.  93.]\n",
      " [ 89.  91.  90.]\n",
      " [ 96.  98. 100.]\n",
      " [ 73.  66.  70.]]\n"
     ]
    }
   ],
   "source": [
    "print(x_data.shape) # x_data shape\n",
    "print(len(x_data))  # x_data 길이\n",
    "print(x_data[:5])   # 첫 다섯 개"
   ]
  },
  {
   "cell_type": "code",
   "execution_count": 29,
   "metadata": {},
   "outputs": [
    {
     "name": "stdout",
     "output_type": "stream",
     "text": [
      "(25, 1)\n",
      "25\n",
      "[[152.]\n",
      " [185.]\n",
      " [180.]\n",
      " [196.]\n",
      " [142.]]\n"
     ]
    }
   ],
   "source": [
    "print(y_data.shape) # y_data shape\n",
    "print(len(y_data))  # y_data 길이\n",
    "print(y_data[:5])   # 첫 다섯 개"
   ]
  },
  {
   "cell_type": "markdown",
   "metadata": {},
   "source": [
    "## Imports"
   ]
  },
  {
   "cell_type": "code",
   "execution_count": 30,
   "metadata": {},
   "outputs": [],
   "source": [
    "import torch\n",
    "import torch.nn as nn\n",
    "import torch.nn.functional as F\n",
    "import torch.optim as optim"
   ]
  },
  {
   "cell_type": "code",
   "execution_count": 31,
   "metadata": {},
   "outputs": [
    {
     "data": {
      "text/plain": [
       "<torch._C.Generator at 0x1449235b130>"
      ]
     },
     "execution_count": 31,
     "metadata": {},
     "output_type": "execute_result"
    }
   ],
   "source": [
    "# For reproducibility\n",
    "torch.manual_seed(1)"
   ]
  },
  {
   "cell_type": "markdown",
   "metadata": {},
   "source": [
    "## Low-level Implementation"
   ]
  },
  {
   "cell_type": "code",
   "execution_count": 32,
   "metadata": {},
   "outputs": [
    {
     "name": "stdout",
     "output_type": "stream",
     "text": [
      "Epoch    0/20 Cost: 26811.960938\n",
      "Epoch    1/20 Cost: 9920.530273\n",
      "Epoch    2/20 Cost: 3675.298828\n",
      "Epoch    3/20 Cost: 1366.260498\n",
      "Epoch    4/20 Cost: 512.542419\n",
      "Epoch    5/20 Cost: 196.896622\n",
      "Epoch    6/20 Cost: 80.190987\n",
      "Epoch    7/20 Cost: 37.038692\n",
      "Epoch    8/20 Cost: 21.081335\n",
      "Epoch    9/20 Cost: 15.178760\n",
      "Epoch   10/20 Cost: 12.993677\n",
      "Epoch   11/20 Cost: 12.183030\n",
      "Epoch   12/20 Cost: 11.880535\n",
      "Epoch   13/20 Cost: 11.765964\n",
      "Epoch   14/20 Cost: 11.720856\n",
      "Epoch   15/20 Cost: 11.701438\n",
      "Epoch   16/20 Cost: 11.691510\n",
      "Epoch   17/20 Cost: 11.685122\n",
      "Epoch   18/20 Cost: 11.680007\n",
      "Epoch   19/20 Cost: 11.675372\n",
      "Epoch   20/20 Cost: 11.670942\n"
     ]
    }
   ],
   "source": [
    "# 데이터\n",
    "x_train = torch.FloatTensor(x_data)\n",
    "y_train = torch.FloatTensor(y_data)\n",
    "# 모델 초기화\n",
    "W = torch.zeros((3, 1), requires_grad=True)\n",
    "b = torch.zeros(1, requires_grad=True)\n",
    "# optimizer 설정\n",
    "optimizer = optim.SGD([W, b], lr=1e-5)\n",
    "\n",
    "nb_epochs = 20\n",
    "for epoch in range(nb_epochs + 1):\n",
    "    \n",
    "    # H(x) 계산\n",
    "    hypothesis = x_train.matmul(W) + b # or .mm or @\n",
    "\n",
    "    # cost 계산\n",
    "    cost = torch.mean((hypothesis - y_train) ** 2)\n",
    "\n",
    "    # cost로 H(x) 개선\n",
    "    optimizer.zero_grad()\n",
    "    cost.backward()\n",
    "    optimizer.step()\n",
    "\n",
    "    # 100번마다 로그 출력\n",
    "    print('Epoch {:4d}/{} Cost: {:.6f}'.format(\n",
    "        epoch, nb_epochs, cost.item()\n",
    "    ))"
   ]
  },
  {
   "cell_type": "markdown",
   "metadata": {},
   "source": [
    "## High-level Implementation with `nn.Module`"
   ]
  },
  {
   "cell_type": "code",
   "execution_count": 33,
   "metadata": {},
   "outputs": [],
   "source": [
    "class MultivariateLinearRegressionModel(nn.Module):\n",
    "    def __init__(self):\n",
    "        super().__init__()\n",
    "        self.linear = nn.Linear(3, 1)\n",
    "\n",
    "    def forward(self, x):\n",
    "        return self.linear(x)"
   ]
  },
  {
   "cell_type": "code",
   "execution_count": 34,
   "metadata": {},
   "outputs": [
    {
     "name": "stdout",
     "output_type": "stream",
     "text": [
      "Epoch    0/20 Cost: 28693.490234\n",
      "Epoch    1/20 Cost: 10618.750977\n",
      "Epoch    2/20 Cost: 3936.015381\n",
      "Epoch    3/20 Cost: 1465.219727\n",
      "Epoch    4/20 Cost: 551.693726\n",
      "Epoch    5/20 Cost: 213.934616\n",
      "Epoch    6/20 Cost: 89.052269\n",
      "Epoch    7/20 Cost: 42.876007\n",
      "Epoch    8/20 Cost: 25.799639\n",
      "Epoch    9/20 Cost: 19.482420\n",
      "Epoch   10/20 Cost: 17.143093\n",
      "Epoch   11/20 Cost: 16.274508\n",
      "Epoch   12/20 Cost: 15.949721\n",
      "Epoch   13/20 Cost: 15.825986\n",
      "Epoch   14/20 Cost: 15.776565\n",
      "Epoch   15/20 Cost: 15.754660\n",
      "Epoch   16/20 Cost: 15.742919\n",
      "Epoch   17/20 Cost: 15.734917\n",
      "Epoch   18/20 Cost: 15.728307\n",
      "Epoch   19/20 Cost: 15.722219\n",
      "Epoch   20/20 Cost: 15.716357\n"
     ]
    }
   ],
   "source": [
    "# 데이터\n",
    "x_train = torch.FloatTensor(x_data)\n",
    "y_train = torch.FloatTensor(y_data)\n",
    "# 모델 초기화\n",
    "model = MultivariateLinearRegressionModel()\n",
    "# optimizer 설정\n",
    "optimizer = optim.SGD(model.parameters(), lr=1e-5)\n",
    "\n",
    "nb_epochs = 20\n",
    "for epoch in range(nb_epochs+1):\n",
    "    \n",
    "    # H(x) 계산\n",
    "    prediction = model(x_train)\n",
    "    \n",
    "    # cost 계산\n",
    "    cost = F.mse_loss(prediction, y_train)\n",
    "    \n",
    "    # cost로 H(x) 개선\n",
    "    optimizer.zero_grad()\n",
    "    cost.backward()\n",
    "    optimizer.step()\n",
    "    \n",
    "    # 20번마다 로그 출력\n",
    "    print('Epoch {:4d}/{} Cost: {:.6f}'.format(\n",
    "        epoch, nb_epochs, cost.item()\n",
    "    ))"
   ]
  },
  {
   "cell_type": "markdown",
   "metadata": {},
   "source": [
    "## Dataset and DataLoader"
   ]
  },
  {
   "cell_type": "markdown",
   "metadata": {},
   "source": [
    "<div class=\"alert alert-warning\">\n",
    "    pandas 기초지식이 필요할 것 같다\n",
    "</div>"
   ]
  },
  {
   "cell_type": "markdown",
   "metadata": {},
   "source": [
    "너무 데이터가 크면 `x_data`, `y_data` 를 전부 다 가져오지 말고, 필요한 배치만 가져올 수 밖에 없다."
   ]
  },
  {
   "cell_type": "markdown",
   "metadata": {},
   "source": [
    "[PyTorch Data Loading and Processing tutorial](https://pytorch.org/tutorials/beginner/data_loading_tutorial.html#iterating-through-the-dataset)"
   ]
  },
  {
   "cell_type": "code",
   "execution_count": 38,
   "metadata": {},
   "outputs": [],
   "source": [
    "from torch.utils.data import Dataset\n",
    "\n",
    "class CustomDataset(Dataset):\n",
    "        def __init__(self):\n",
    "            self.x_data = [[73, 80, 75],\n",
    "            [93, 88, 93],\n",
    "            [89, 91, 90],\n",
    "            [96, 98, 100],\n",
    "            [73, 66, 70]]\n",
    "            self.y_data = [[152], [185], [180], [196], [142]]\n",
    "        def __len__(self):\n",
    "            return len(self.x_data)\n",
    "        \n",
    "        def __getitem__(self, index) -> tuple[torch.FloatTensor, torch.FloatTensor]:\n",
    "            return torch.FloatTensor(self.x_data[index]), torch.FloatTensor(self.y_data[index])\n",
    "\n",
    "dataset = CustomDataset()"
   ]
  },
  {
   "cell_type": "code",
   "execution_count": 39,
   "metadata": {},
   "outputs": [],
   "source": [
    "from torch.utils.data import DataLoader\n",
    "\n",
    "dataloader = DataLoader(\n",
    "    dataset,\n",
    "    batch_size=2,\n",
    "    shuffle=True\n",
    ")"
   ]
  },
  {
   "cell_type": "code",
   "execution_count": 40,
   "metadata": {},
   "outputs": [
    {
     "name": "stdout",
     "output_type": "stream",
     "text": [
      "Epoch    0/20 Batch 1/3 Cost: 2.135518\n",
      "Epoch    0/20 Batch 2/3 Cost: 1.310574\n",
      "Epoch    0/20 Batch 3/3 Cost: 0.111801\n",
      "Epoch    1/20 Batch 1/3 Cost: 0.326045\n",
      "Epoch    1/20 Batch 2/3 Cost: 0.435427\n",
      "Epoch    1/20 Batch 3/3 Cost: 0.000024\n",
      "Epoch    2/20 Batch 1/3 Cost: 0.416842\n",
      "Epoch    2/20 Batch 2/3 Cost: 0.018350\n",
      "Epoch    2/20 Batch 3/3 Cost: 0.351055\n",
      "Epoch    3/20 Batch 1/3 Cost: 0.541905\n",
      "Epoch    3/20 Batch 2/3 Cost: 0.214501\n",
      "Epoch    3/20 Batch 3/3 Cost: 0.088507\n",
      "Epoch    4/20 Batch 1/3 Cost: 0.100891\n",
      "Epoch    4/20 Batch 2/3 Cost: 0.529385\n",
      "Epoch    4/20 Batch 3/3 Cost: 0.009858\n",
      "Epoch    5/20 Batch 1/3 Cost: 0.227918\n",
      "Epoch    5/20 Batch 2/3 Cost: 0.044805\n",
      "Epoch    5/20 Batch 3/3 Cost: 0.929628\n",
      "Epoch    6/20 Batch 1/3 Cost: 0.217486\n",
      "Epoch    6/20 Batch 2/3 Cost: 0.659211\n",
      "Epoch    6/20 Batch 3/3 Cost: 0.002145\n",
      "Epoch    7/20 Batch 1/3 Cost: 0.465731\n",
      "Epoch    7/20 Batch 2/3 Cost: 0.008071\n",
      "Epoch    7/20 Batch 3/3 Cost: 0.294567\n",
      "Epoch    8/20 Batch 1/3 Cost: 0.566970\n",
      "Epoch    8/20 Batch 2/3 Cost: 0.009719\n",
      "Epoch    8/20 Batch 3/3 Cost: 0.239926\n",
      "Epoch    9/20 Batch 1/3 Cost: 0.617247\n",
      "Epoch    9/20 Batch 2/3 Cost: 0.032176\n",
      "Epoch    9/20 Batch 3/3 Cost: 0.065136\n",
      "Epoch   10/20 Batch 1/3 Cost: 0.111747\n",
      "Epoch   10/20 Batch 2/3 Cost: 0.048366\n",
      "Epoch   10/20 Batch 3/3 Cost: 0.981138\n",
      "Epoch   11/20 Batch 1/3 Cost: 0.244369\n",
      "Epoch   11/20 Batch 2/3 Cost: 0.149581\n",
      "Epoch   11/20 Batch 3/3 Cost: 0.875020\n",
      "Epoch   12/20 Batch 1/3 Cost: 0.421013\n",
      "Epoch   12/20 Batch 2/3 Cost: 0.296302\n",
      "Epoch   12/20 Batch 3/3 Cost: 0.010001\n",
      "Epoch   13/20 Batch 1/3 Cost: 0.060636\n",
      "Epoch   13/20 Batch 2/3 Cost: 0.487320\n",
      "Epoch   13/20 Batch 3/3 Cost: 0.408916\n",
      "Epoch   14/20 Batch 1/3 Cost: 0.517929\n",
      "Epoch   14/20 Batch 2/3 Cost: 0.081384\n",
      "Epoch   14/20 Batch 3/3 Cost: 0.206264\n",
      "Epoch   15/20 Batch 1/3 Cost: 0.069613\n",
      "Epoch   15/20 Batch 2/3 Cost: 0.050327\n",
      "Epoch   15/20 Batch 3/3 Cost: 1.176610\n",
      "Epoch   16/20 Batch 1/3 Cost: 0.029902\n",
      "Epoch   16/20 Batch 2/3 Cost: 0.488188\n",
      "Epoch   16/20 Batch 3/3 Cost: 0.241033\n",
      "Epoch   17/20 Batch 1/3 Cost: 0.026604\n",
      "Epoch   17/20 Batch 2/3 Cost: 0.131230\n",
      "Epoch   17/20 Batch 3/3 Cost: 1.162156\n",
      "Epoch   18/20 Batch 1/3 Cost: 0.490840\n",
      "Epoch   18/20 Batch 2/3 Cost: 0.165021\n",
      "Epoch   18/20 Batch 3/3 Cost: 0.011674\n",
      "Epoch   19/20 Batch 1/3 Cost: 0.425267\n",
      "Epoch   19/20 Batch 2/3 Cost: 0.186588\n",
      "Epoch   19/20 Batch 3/3 Cost: 0.001814\n",
      "Epoch   20/20 Batch 1/3 Cost: 0.422040\n",
      "Epoch   20/20 Batch 2/3 Cost: 0.313553\n",
      "Epoch   20/20 Batch 3/3 Cost: 0.065847\n"
     ]
    }
   ],
   "source": [
    "nb_epochs = 20\n",
    "for epoch in range(nb_epochs + 1):\n",
    "    for batch_idx, samples in enumerate(dataloader):\n",
    "        x_train, y_train = samples\n",
    "        # H(x) 계산\n",
    "        prediction = model(x_train)\n",
    "        # cost 계산\n",
    "        cost = F.mse_loss(prediction, y_train)\n",
    "        # cost로 H(x) 개선\n",
    "        optimizer.zero_grad()\n",
    "        cost.backward()\n",
    "        optimizer.step()\n",
    "        print('Epoch {:4d}/{} Batch {}/{} Cost: {:.6f}'.format(\n",
    "            epoch, nb_epochs, batch_idx+1, len(dataloader),\n",
    "            cost.item()\n",
    "        ))\n"
   ]
  }
 ],
 "metadata": {
  "kernelspec": {
   "display_name": "deeplearning",
   "language": "python",
   "name": "python3"
  },
  "language_info": {
   "codemirror_mode": {
    "name": "ipython",
    "version": 3
   },
   "file_extension": ".py",
   "mimetype": "text/x-python",
   "name": "python",
   "nbconvert_exporter": "python",
   "pygments_lexer": "ipython3",
   "version": "3.9.16"
  },
  "vscode": {
   "interpreter": {
    "hash": "512d8afb2191382feab08689ffd3568f0534553afd778b345ebffea1d046c029"
   }
  }
 },
 "nbformat": 4,
 "nbformat_minor": 2
}
